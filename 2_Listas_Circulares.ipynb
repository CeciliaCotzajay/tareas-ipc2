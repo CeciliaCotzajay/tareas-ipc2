{
  "nbformat": 4,
  "nbformat_minor": 0,
  "metadata": {
    "colab": {
      "name": "2. Listas Circulares.ipynb",
      "provenance": [],
      "collapsed_sections": [],
      "authorship_tag": "ABX9TyOwzmKlCwHsJJRxrn5h0bP3",
      "include_colab_link": true
    },
    "kernelspec": {
      "name": "python3",
      "display_name": "Python 3"
    },
    "language_info": {
      "name": "python"
    }
  },
  "cells": [
    {
      "cell_type": "markdown",
      "metadata": {
        "id": "view-in-github",
        "colab_type": "text"
      },
      "source": [
        "<a href=\"https://colab.research.google.com/github/CeciliaCotzajay/tareas-ipc2/blob/main/2_Listas_Circulares.ipynb\" target=\"_parent\"><img src=\"https://colab.research.google.com/assets/colab-badge.svg\" alt=\"Open In Colab\"/></a>"
      ]
    },
    {
      "cell_type": "markdown",
      "metadata": {
        "id": "FLwwu9p6HeEw"
      },
      "source": [
        "***LISTAS CIRCULARES***"
      ]
    },
    {
      "cell_type": "markdown",
      "metadata": {
        "id": "ZJotOSbfIAk7"
      },
      "source": [
        "**Definicion de la clase estudiante**"
      ]
    },
    {
      "cell_type": "code",
      "metadata": {
        "id": "uS0uGQxdIHrB"
      },
      "source": [
        "class estudiante:\n",
        "  def __init__(self, carne, nombre, edad, direccion, telefono, email, carrera, puesto):\n",
        "    self.carne = carne\n",
        "    self.nombre = nombre\n",
        "    self.edad = edad\n",
        "    self.direccion = direccion\n",
        "    self.telefono = telefono\n",
        "    self.email = email\n",
        "    self.carrera = carrera\n",
        "    self.puesto = puesto"
      ],
      "execution_count": 1,
      "outputs": []
    },
    {
      "cell_type": "markdown",
      "metadata": {
        "id": "QInSxvLVINAC"
      },
      "source": [
        "***Definición de la Clase Nodo***"
      ]
    },
    {
      "cell_type": "code",
      "metadata": {
        "id": "wgbHg85XIUhu"
      },
      "source": [
        "class nodo:\n",
        "  def __init__(self, estudiante=None, siguiente=None):\n",
        "    self.estudiante = estudiante\n",
        "    self.siguiente = siguiente"
      ],
      "execution_count": 2,
      "outputs": []
    },
    {
      "cell_type": "markdown",
      "metadata": {
        "id": "MCB0FRRzH10Y"
      },
      "source": [
        "***Definición de la clase Lista Circular***"
      ]
    },
    {
      "cell_type": "code",
      "metadata": {
        "id": "yT5UO-haHjAz"
      },
      "source": [
        "class lista_circular:\n",
        "  primero = None\n",
        "\n",
        "  def _init_(self):\n",
        "    self.primero = None\n",
        "\n",
        "  def insertar(self, estudiante):\n",
        "    if self.primero is None:\n",
        "      self.primero = nodo(estudiante=estudiante)\n",
        "      self.primero.siguiente = self.primero\n",
        "    else:\n",
        "      actual = nodo(estudiante=estudiante, siguiente=self.primero.siguiente)\n",
        "      self.primero.siguiente = actual\n",
        "\n",
        "  def recorrer(self):\n",
        "    if self.primero is None:\n",
        "      return\n",
        "    actual = self.primero\n",
        "    print(\"carne: \", actual.estudiante.carne, \"nombre: \", actual.estudiante.nombre, \"email: \", actual.estudiante.email, \"->\")\n",
        "    while actual.siguiente != self.primero:\n",
        "      actual = actual.siguiente\n",
        "      print(\"carne: \", actual.estudiante.carne, \"nombre: \", actual.estudiante.nombre, \"email: \", actual.estudiante.email, \"->\")\n",
        "\n",
        "  def eliminar(self, carne):\n",
        "    actual = self.primero\n",
        "    anterior = None\n",
        "    no_encontrado = False\n",
        "    while actual and actual.estudiante.carne != carne:\n",
        "      anterior = actual\n",
        "      actual = actual.siguiente\n",
        "      if actual == self.primero:\n",
        "        no_encontrado = True\n",
        "        break\n",
        "    if not no_encontrado:\n",
        "      if anterior is not None:\n",
        "        anterior.siguiente = actual.siguiente\n",
        "      else:\n",
        "        while actual.siguiente != self.primero:\n",
        "          actual = actual.siguiente\n",
        "        actual.siguiente = self.primero.siguiente\n",
        "        self.primero = self.primero.siguiente\n",
        "\n",
        "  def buscar(self, carne):\n",
        "    actual = self.primero\n",
        "    if actual.estudiante.carne == carne:\n",
        "      print(\"***Estudiante encontrado:\",\"carne:\",actual.estudiante.carne, \"nombre:\", actual.estudiante.nombre, \"email:\", actual.estudiante.email, \"***\")\n",
        "      return True\n",
        "    else:\n",
        "      while actual.siguiente != self.primero:\n",
        "          actual = actual.siguiente\n",
        "          if actual.estudiante.carne == carne:\n",
        "            print(\"***Estudiante encontrado:\",\"carne:\",actual.estudiante.carne, \"nombre:\", actual.estudiante.nombre, \"email:\", actual.estudiante.email, \"***\")\n",
        "            return True"
      ],
      "execution_count": 3,
      "outputs": []
    },
    {
      "cell_type": "markdown",
      "metadata": {
        "id": "BRDcv6yJpKoi"
      },
      "source": [
        "***Creación de objetos Estudiante***"
      ]
    },
    {
      "cell_type": "code",
      "metadata": {
        "id": "jR-lSaKzpVTZ"
      },
      "source": [
        "e1 = estudiante(201915059, \"Gerson Ortiz\", 20, \"9 calle 10-02 zona 1\", 24400101, \"gerson.ortiz@gmail.com\", \"Ingeniería en Sistemas\", \"Programador Jr\")\n",
        "e2 = estudiante(201915060, \"Karen Hurtarte\", 21, \"7 calle 10-02 zona 1\", 24400102, \"karen.hurtarte@gmail.com\", \"Ingeniería en Sistemas\", \"Programador Jr\")\n",
        "e3 = estudiante(201915061, \"Luis Mendez\", 22, \"8 calle 10-02 zona 1\", 24400103, \"luis.mendez@gmail.com\", \"Ingeniería en Sistemas\", \"Programador Jr\")\n",
        "e4 = estudiante(201915062, \"Cecilia Cotzajay\", 24, \"9 calle 10-02 zona 1\", 24400104, \"cecilia.cotzajay@gmail.com\", \"Ingeniería en Sistemas\", \"Programador Jr\")"
      ],
      "execution_count": 4,
      "outputs": []
    },
    {
      "cell_type": "markdown",
      "metadata": {
        "id": "ZpxuVE5fpYMj"
      },
      "source": [
        "***Inserción***"
      ]
    },
    {
      "cell_type": "code",
      "metadata": {
        "colab": {
          "base_uri": "https://localhost:8080/"
        },
        "id": "w-5Jv5dhphha",
        "outputId": "b6631fa7-0fa3-4096-83b8-b2dea4a788bb"
      },
      "source": [
        "lista_c = lista_circular()\n",
        "lista_c.insertar(e1)\n",
        "lista_c.insertar(e2)\n",
        "lista_c.insertar(e3)\n",
        "lista_c.insertar(e4)\n",
        "lista_c.recorrer()"
      ],
      "execution_count": 5,
      "outputs": [
        {
          "output_type": "stream",
          "text": [
            "carne:  201915059 nombre:  Gerson Ortiz email:  gerson.ortiz@gmail.com ->\n",
            "carne:  201915062 nombre:  Cecilia Cotzajay email:  cecilia.cotzajay@gmail.com ->\n",
            "carne:  201915061 nombre:  Luis Mendez email:  luis.mendez@gmail.com ->\n",
            "carne:  201915060 nombre:  Karen Hurtarte email:  karen.hurtarte@gmail.com ->\n"
          ],
          "name": "stdout"
        }
      ]
    },
    {
      "cell_type": "markdown",
      "metadata": {
        "id": "sMy5crYTsGsu"
      },
      "source": [
        "***Eliminar un nodo de la lista***"
      ]
    },
    {
      "cell_type": "code",
      "metadata": {
        "colab": {
          "base_uri": "https://localhost:8080/"
        },
        "id": "HpHH3yBfsQER",
        "outputId": "925bd5a2-de2d-48b8-e1f7-cd1610defdda"
      },
      "source": [
        "lista_c.eliminar(201915060)\n",
        "lista_c.recorrer()\n",
        "print(\"\")\n",
        "lista_c.eliminar(201915059)\n",
        "lista_c.recorrer()"
      ],
      "execution_count": 6,
      "outputs": [
        {
          "output_type": "stream",
          "text": [
            "carne:  201915059 nombre:  Gerson Ortiz email:  gerson.ortiz@gmail.com ->\n",
            "carne:  201915062 nombre:  Cecilia Cotzajay email:  cecilia.cotzajay@gmail.com ->\n",
            "carne:  201915061 nombre:  Luis Mendez email:  luis.mendez@gmail.com ->\n",
            "\n",
            "carne:  201915062 nombre:  Cecilia Cotzajay email:  cecilia.cotzajay@gmail.com ->\n",
            "carne:  201915061 nombre:  Luis Mendez email:  luis.mendez@gmail.com ->\n"
          ],
          "name": "stdout"
        }
      ]
    },
    {
      "cell_type": "markdown",
      "metadata": {
        "id": "WYSxjjrYzOIr"
      },
      "source": [
        "***Buscar un nodo de la lista***"
      ]
    },
    {
      "cell_type": "code",
      "metadata": {
        "id": "fygb8F-hzUps",
        "colab": {
          "base_uri": "https://localhost:8080/"
        },
        "outputId": "aad0c4c9-b8cf-438e-e8f8-0349fd97be56"
      },
      "source": [
        "lista_c.buscar(201915062)\n",
        "lista_c.recorrer()\n",
        "print(\"\")\n",
        "lista_c.buscar(201915061)\n",
        "lista_c.recorrer()"
      ],
      "execution_count": 7,
      "outputs": [
        {
          "output_type": "stream",
          "text": [
            "***Estudiante encontrado: carne: 201915062 nombre: Cecilia Cotzajay email: cecilia.cotzajay@gmail.com ***\n",
            "carne:  201915062 nombre:  Cecilia Cotzajay email:  cecilia.cotzajay@gmail.com ->\n",
            "carne:  201915061 nombre:  Luis Mendez email:  luis.mendez@gmail.com ->\n",
            "\n",
            "***Estudiante encontrado: carne: 201915061 nombre: Luis Mendez email: luis.mendez@gmail.com ***\n",
            "carne:  201915062 nombre:  Cecilia Cotzajay email:  cecilia.cotzajay@gmail.com ->\n",
            "carne:  201915061 nombre:  Luis Mendez email:  luis.mendez@gmail.com ->\n"
          ],
          "name": "stdout"
        }
      ]
    }
  ]
}