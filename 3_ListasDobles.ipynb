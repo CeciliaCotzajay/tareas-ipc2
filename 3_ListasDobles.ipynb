{
  "nbformat": 4,
  "nbformat_minor": 0,
  "metadata": {
    "colab": {
      "name": "3.ListasDobles.ipynb",
      "provenance": [],
      "authorship_tag": "ABX9TyN7qHpRa0EpYUA/udrVy/Va",
      "include_colab_link": true
    },
    "kernelspec": {
      "name": "python3",
      "display_name": "Python 3"
    },
    "language_info": {
      "name": "python"
    }
  },
  "cells": [
    {
      "cell_type": "markdown",
      "metadata": {
        "id": "view-in-github",
        "colab_type": "text"
      },
      "source": [
        "<a href=\"https://colab.research.google.com/github/CeciliaCotzajay/tareas-ipc2/blob/main/3_ListasDobles.ipynb\" target=\"_parent\"><img src=\"https://colab.research.google.com/assets/colab-badge.svg\" alt=\"Open In Colab\"/></a>"
      ]
    },
    {
      "cell_type": "markdown",
      "metadata": {
        "id": "H_nAkW91xYep"
      },
      "source": [
        "***LISTAS DOBLEMENTE ENLAZADAS***"
      ]
    },
    {
      "cell_type": "markdown",
      "metadata": {
        "id": "BkDxF6SVxNGM"
      },
      "source": [
        "**Definicion de la clase estudiante**"
      ]
    },
    {
      "cell_type": "code",
      "metadata": {
        "id": "-xZicARCxnZN"
      },
      "source": [
        "class estudiante:\n",
        "  def __init__(self, carne, nombre, edad, direccion, telefono, email, carrera, puesto):\n",
        "    self.carne = carne\n",
        "    self.nombre = nombre\n",
        "    self.edad = edad\n",
        "    self.direccion = direccion\n",
        "    self.telefono = telefono\n",
        "    self.email = email\n",
        "    self.carrera = carrera\n",
        "    self.puesto = puesto"
      ],
      "execution_count": 1,
      "outputs": []
    },
    {
      "cell_type": "markdown",
      "metadata": {
        "id": "PNLCy8GRx0hH"
      },
      "source": [
        "***Definición de la Clase Nodo***"
      ]
    },
    {
      "cell_type": "code",
      "metadata": {
        "id": "wgbHg85XIUhu"
      },
      "source": [
        "class nodo:\n",
        "  def __init__(self, estudiante=None, siguiente=None, anterior=None):\n",
        "    self.estudiante = estudiante\n",
        "    self.siguiente = siguiente\n",
        "    self.anterior = anterior"
      ],
      "execution_count": 2,
      "outputs": []
    },
    {
      "cell_type": "markdown",
      "metadata": {
        "id": "MaqI0voWx731"
      },
      "source": [
        "***Definición de la clase Lista Circular***"
      ]
    },
    {
      "cell_type": "code",
      "metadata": {
        "id": "YW9D-86az62a"
      },
      "source": [
        "class lista_doble:\n",
        "  def __init__(self):\n",
        "    self.primero = None\n",
        "\n",
        "  def insertar(self, estudiante):\n",
        "    if self.primero is None:\n",
        "      self.primero = nodo(estudiante=estudiante)\n",
        "    else:\n",
        "      actual = nodo(estudiante=estudiante, siguiente=self.primero)\n",
        "      self.primero.anterior = actual\n",
        "      self.primero = actual\n",
        "\n",
        "  def recorrer(self):\n",
        "    if self.primero is None:\n",
        "      return \n",
        "    actual = self.primero\n",
        "    print(\"carne: \", actual.estudiante.carne, \"nombre: \", actual.estudiante.nombre, \"email: \", actual.estudiante.email, \"->\")\n",
        "    while actual.siguiente:\n",
        "      actual = actual.siguiente\n",
        "      print(\"carne: \", actual.estudiante.carne, \"nombre: \", actual.estudiante.nombre, \"email: \", actual.estudiante.email, \"->\")\n",
        "\n",
        "  def eliminar(self, carne):\n",
        "    actual = self.primero\n",
        "    while actual:\n",
        "      if actual.estudiante.carne == carne:\n",
        "        if actual.anterior:\n",
        "          if actual.siguiente:\n",
        "            actual.anterior.siguiente = actual.siguiente\n",
        "            actual.siguiente.anterior = actual.anterior\n",
        "          else:\n",
        "            actual.anterior.siguiente = None\n",
        "            actual.anterior = None\n",
        "        else:\n",
        "          if actual.siguiente:\n",
        "            self.primero = actual.siguiente\n",
        "            actual.siguiente.anterior = None\n",
        "          else:\n",
        "            self.primero = None\n",
        "          return True\n",
        "      else:\n",
        "        actual = actual.siguiente\n",
        "      return False\n",
        "\n",
        "  def buscar(self, carne):\n",
        "    actual = self.primero\n",
        "    while actual != None:\n",
        "      if actual.estudiante.carne == carne:\n",
        "        print(\"***Estudiante encontrado:\",\"carne:\",actual.estudiante.carne, \"nombre:\", actual.estudiante.nombre, \"email:\", actual.estudiante.email, \"***\")\n",
        "        return True #break\n",
        "      actual = actual.siguiente"
      ],
      "execution_count": 3,
      "outputs": []
    },
    {
      "cell_type": "markdown",
      "metadata": {
        "id": "BRDcv6yJpKoi"
      },
      "source": [
        "***Creación de objetos Estudiante***"
      ]
    },
    {
      "cell_type": "code",
      "metadata": {
        "id": "jR-lSaKzpVTZ"
      },
      "source": [
        "e1 = estudiante(201915059, \"Gerson Ortiz\", 20, \"9 calle 10-02 zona 1\", 24400101, \"gerson.ortiz@gmail.com\", \"Ingeniería en Sistemas\", \"Programador Jr\")\n",
        "e2 = estudiante(201915060, \"Karen Hurtarte\", 21, \"7 calle 10-02 zona 1\", 24400102, \"karen.hurtarte@gmail.com\", \"Ingeniería en Sistemas\", \"Programador Jr\")\n",
        "e3 = estudiante(201915061, \"Luis Mendez\", 22, \"8 calle 10-02 zona 1\", 24400103, \"luis.mendez@gmail.com\", \"Ingeniería en Sistemas\", \"Programador Jr\")"
      ],
      "execution_count": 4,
      "outputs": []
    },
    {
      "cell_type": "markdown",
      "metadata": {
        "id": "ZpxuVE5fpYMj"
      },
      "source": [
        "***Inserción***"
      ]
    },
    {
      "cell_type": "code",
      "metadata": {
        "colab": {
          "base_uri": "https://localhost:8080/"
        },
        "id": "w-5Jv5dhphha",
        "outputId": "84a8123c-2c75-4e73-879c-246dce795fce"
      },
      "source": [
        "lista_d = lista_doble()\n",
        "lista_d.insertar(e1)\n",
        "lista_d.insertar(e2)\n",
        "lista_d.insertar(e3)\n",
        "lista_d.recorrer()"
      ],
      "execution_count": 5,
      "outputs": [
        {
          "output_type": "stream",
          "text": [
            "carne:  201915061 nombre:  Luis Mendez email:  luis.mendez@gmail.com ->\n",
            "carne:  201915060 nombre:  Karen Hurtarte email:  karen.hurtarte@gmail.com ->\n",
            "carne:  201915059 nombre:  Gerson Ortiz email:  gerson.ortiz@gmail.com ->\n"
          ],
          "name": "stdout"
        }
      ]
    },
    {
      "cell_type": "markdown",
      "metadata": {
        "id": "WYSxjjrYzOIr"
      },
      "source": [
        "***BUSCAR un nodo de la lista***"
      ]
    },
    {
      "cell_type": "code",
      "metadata": {
        "id": "fygb8F-hzUps",
        "colab": {
          "base_uri": "https://localhost:8080/"
        },
        "outputId": "13ccd53f-802e-4c1e-f617-c31f81979bc6"
      },
      "source": [
        "lista_d.buscar(201915060)"
      ],
      "execution_count": 8,
      "outputs": [
        {
          "output_type": "stream",
          "text": [
            "***Estudiante encontrado: carne: 201915060 nombre: Karen Hurtarte email: karen.hurtarte@gmail.com ***\n"
          ],
          "name": "stdout"
        },
        {
          "output_type": "execute_result",
          "data": {
            "text/plain": [
              "True"
            ]
          },
          "metadata": {},
          "execution_count": 8
        }
      ]
    },
    {
      "cell_type": "code",
      "metadata": {
        "colab": {
          "base_uri": "https://localhost:8080/"
        },
        "id": "AguNYiSfRN4F",
        "outputId": "80d93d37-303f-4771-fb9c-b0052bccd95c"
      },
      "source": [
        "lista_d.buscar(201915061)"
      ],
      "execution_count": 7,
      "outputs": [
        {
          "output_type": "stream",
          "text": [
            "***Estudiante encontrado: carne: 201915061 nombre: Luis Mendez email: luis.mendez@gmail.com ***\n"
          ],
          "name": "stdout"
        },
        {
          "output_type": "execute_result",
          "data": {
            "text/plain": [
              "True"
            ]
          },
          "metadata": {},
          "execution_count": 7
        }
      ]
    },
    {
      "cell_type": "markdown",
      "metadata": {
        "id": "sMy5crYTsGsu"
      },
      "source": [
        "***Eliminar un nodo de la lista***"
      ]
    },
    {
      "cell_type": "code",
      "metadata": {
        "colab": {
          "base_uri": "https://localhost:8080/"
        },
        "id": "HpHH3yBfsQER",
        "outputId": "65c16272-faf8-4f0a-c91a-d953d053b848"
      },
      "source": [
        "lista_d.eliminar(201915061)\n",
        "lista_d.recorrer()"
      ],
      "execution_count": 9,
      "outputs": [
        {
          "output_type": "stream",
          "text": [
            "carne:  201915060 nombre:  Karen Hurtarte email:  karen.hurtarte@gmail.com ->\n",
            "carne:  201915059 nombre:  Gerson Ortiz email:  gerson.ortiz@gmail.com ->\n"
          ],
          "name": "stdout"
        }
      ]
    },
    {
      "cell_type": "code",
      "metadata": {
        "colab": {
          "base_uri": "https://localhost:8080/"
        },
        "id": "NnbxR_wmOfhK",
        "outputId": "7a90e6b4-38d5-47b7-d2d6-ef11f9af8f8b"
      },
      "source": [
        "lista_d.eliminar(201915060)\n",
        "lista_d.recorrer()"
      ],
      "execution_count": 10,
      "outputs": [
        {
          "output_type": "stream",
          "text": [
            "carne:  201915059 nombre:  Gerson Ortiz email:  gerson.ortiz@gmail.com ->\n"
          ],
          "name": "stdout"
        }
      ]
    }
  ]
}