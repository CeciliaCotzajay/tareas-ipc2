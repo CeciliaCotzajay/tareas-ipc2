{
  "nbformat": 4,
  "nbformat_minor": 0,
  "metadata": {
    "colab": {
      "name": "1. ListasEnlazadas.ipynb",
      "provenance": [],
      "collapsed_sections": [],
      "authorship_tag": "ABX9TyNY3nj1ORIj9CnsOCNyLoUB",
      "include_colab_link": true
    },
    "kernelspec": {
      "name": "python3",
      "display_name": "Python 3"
    },
    "language_info": {
      "name": "python"
    }
  },
  "cells": [
    {
      "cell_type": "markdown",
      "metadata": {
        "id": "view-in-github",
        "colab_type": "text"
      },
      "source": [
        "<a href=\"https://colab.research.google.com/github/CeciliaCotzajay/tareas-ipc2/blob/main/1_ListasEnlazadas.ipynb\" target=\"_parent\"><img src=\"https://colab.research.google.com/assets/colab-badge.svg\" alt=\"Open In Colab\"/></a>"
      ]
    },
    {
      "cell_type": "markdown",
      "metadata": {
        "id": "itON897lt0Tl"
      },
      "source": [
        "*****LISTAS ENLAZADAS*****\n",
        "\n",
        "**Definicion de la clase estudiante**"
      ]
    },
    {
      "cell_type": "code",
      "metadata": {
        "id": "kgNP0uf_tyUD"
      },
      "source": [
        "class estudiante:\n",
        "  def __init__(self, carne, nombre, edad, direccion, telefono, email, carrera, puesto):\n",
        "    self.carne = carne\n",
        "    self.nombre = nombre\n",
        "    self.edad = edad\n",
        "    self.direccion = direccion\n",
        "    self.telefono = telefono\n",
        "    self.email = email\n",
        "    self.carrera = carrera\n",
        "    self.puesto = puesto\n"
      ],
      "execution_count": 7,
      "outputs": []
    },
    {
      "cell_type": "markdown",
      "metadata": {
        "id": "1A94ldrZzgbm"
      },
      "source": [
        "**Definición de la clase Nodo**"
      ]
    },
    {
      "cell_type": "code",
      "metadata": {
        "id": "ZDRsYlbtze04"
      },
      "source": [
        "class nodo:\n",
        "  def __init__(self, estudiante=None, siguiente=None):\n",
        "    self.estudiante = estudiante\n",
        "    self.siguiente = siguiente"
      ],
      "execution_count": 2,
      "outputs": []
    },
    {
      "cell_type": "markdown",
      "metadata": {
        "id": "B9bR9Geo9j9x"
      },
      "source": [
        "**Definición de la clase Lista**"
      ]
    },
    {
      "cell_type": "code",
      "metadata": {
        "id": "FjdMy-jo9vFj"
      },
      "source": [
        "class lista_enlazada:\n",
        "  def __init__(self):\n",
        "    self.primero = None #Se inicializa la lista \n",
        "  \n",
        "  def insertar(self, estudiante):\n",
        "    if self.primero is None: #Si primero esta vacia.\n",
        "      self.primero = nodo(estudiante = estudiante) \n",
        "      return\n",
        "    actual = self.primero \n",
        "    while actual.siguiente: \n",
        "      actual = actual.siguiente \n",
        "    actual.siguiente = nodo(estudiante=estudiante)\n",
        "\n",
        "  def recorrer(self):\n",
        "    actual = self.primero\n",
        "    while actual != None:\n",
        "      print(\"carne:\", actual.estudiante.carne, \"nombre:\", actual.estudiante.nombre, \"email:\", actual.estudiante.email,\"->\")\n",
        "      actual = actual.siguiente\n",
        "\n",
        "  def eliminar(self, carne):\n",
        "    actual = self.primero\n",
        "    anterior = None\n",
        "    while acutal and actual.estudiante.carne != carne:\n",
        "      anterior = actual\n",
        "      actual = actual.siguiente\n",
        "      if anterior is None:\n",
        "        self.primero = actual.siguiente\n",
        "        actual.siguient = None\n",
        "      elif actual:\n",
        "        anterior.siguiente = actual.siguiente\n",
        "        actual.siguiente = None\n",
        "\n",
        "  def buscar(self, carne):\n",
        "    actual = self.primero\n",
        "    while actual != None:\n",
        "      if actual.estudiante.carne == carne:\n",
        "        print(\"***Estudiante encontrado:\",\"carne:\",actual.estudiante.carne, \"nombre:\", actual.estudiante.nombre, \"email:\", actual.estudiante.email, \"***\")\n",
        "        return True #break\n",
        "      actual = actual.siguiente"
      ],
      "execution_count": 28,
      "outputs": []
    },
    {
      "cell_type": "markdown",
      "metadata": {
        "id": "bdEGoPuhKEX-"
      },
      "source": [
        "***Creación de objetos Estudiante***"
      ]
    },
    {
      "cell_type": "code",
      "metadata": {
        "id": "petVjS1KKNkB"
      },
      "source": [
        "e1 = estudiante(201915059, \"Gerson Ortiz\", 20, \"9 calle 10-02 zona 1\", 24400101, \"gerson.ortiz@gmail.com\", \"Ingeniería en Sistemas\", \"Programador Jr\")\n",
        "e2 = estudiante(201915060, \"Karen Hurtarte\", 21, \"7 calle 10-02 zona 1\", 24400102, \"karen.hurtarte@gmail.com\", \"Ingeniería en Sistemas\", \"Programador Jr\")\n",
        "e3 = estudiante(201915061, \"Luis Mendez\", 22, \"8 calle 10-02 zona 1\", 24400103, \"luis.mendez@gmail.com\", \"Ingeniería en Sistemas\", \"Programador Jr\")"
      ],
      "execution_count": 12,
      "outputs": []
    },
    {
      "cell_type": "markdown",
      "metadata": {
        "id": "hSBq0AupKJ3j"
      },
      "source": [
        "***Inserción***"
      ]
    },
    {
      "cell_type": "code",
      "metadata": {
        "colab": {
          "base_uri": "https://localhost:8080/"
        },
        "id": "aG93ImQwLUQ1",
        "outputId": "f0be02a9-88c7-4e09-e3fc-5e2ef5bb0887"
      },
      "source": [
        "lista_e = lista_enlazada()\n",
        "lista_e.insertar(e1)\n",
        "lista_e.insertar(e2)\n",
        "lista_e.insertar(e3)\n",
        "lista_e.recorrer()\n",
        "lista_e.buscar(201915060)"
      ],
      "execution_count": 29,
      "outputs": [
        {
          "output_type": "stream",
          "text": [
            "carne: 201915059 nombre: Gerson Ortiz email: gerson.ortiz@gmail.com ->\n",
            "carne: 201915060 nombre: Karen Hurtarte email: karen.hurtarte@gmail.com ->\n",
            "carne: 201915061 nombre: Luis Mendez email: luis.mendez@gmail.com ->\n",
            "***Estudiante encontrado: carne: 201915060 nombre: Karen Hurtarte email: karen.hurtarte@gmail.com ***\n"
          ],
          "name": "stdout"
        },
        {
          "output_type": "execute_result",
          "data": {
            "text/plain": [
              "True"
            ]
          },
          "metadata": {
            "tags": []
          },
          "execution_count": 29
        }
      ]
    }
  ]
}